{
 "cells": [
  {
   "cell_type": "markdown",
   "metadata": {},
   "source": [
    "## Exploratory Data Analysis - Xtern Work Sample Assessment"
   ]
  },
  {
   "cell_type": "markdown",
   "metadata": {},
   "source": [
    "### Table of Contents\n",
    "- [Description of the task](#task-description)\n",
    "- [Reading in data](#reading-data)\n",
    "- [Basic EDA](#basic-info)\n",
    "- [Clustering on locations](#clustering-on-locations)\n",
    "- [Analysis on charging time](#analysis-on-charging-time)\n",
    "- [Most popular location](#most-popular-location)\n",
    "- [Operation cost](#operation-cost)\n",
    "- [Final conclusion](#final-conclusions)"
   ]
  },
  {
   "cell_type": "markdown",
   "metadata": {},
   "source": [
    "<a id=\"task-description\"></a>\n",
    "### Description of the task\n",
    "\n",
    "Have you ever hopped on a scooter and realized the battery is dead? 😣 What an upsetting experience! \n",
    "\n",
    "In order to prevent that horrible user experience from happening, the data science team is focusing its efforts on coming up with the best scooter charging strategy. \n",
    "\n",
    "You can find a data set below with scooters’ current geolocation and power level. Power level ranges from 0 - 5 (0 as completely out of battery, 5 as fully charged). It takes 5 hours to charge a scooter’s power from 0 to 5. TechPointX talent team also has a mega charging bus that drives around to pick up scooters and charge them inside. Unfortunately, the bus can only park and start at location 20.19 (xcoordinate), 20.19 (ycoordinate) and only travel 50 miles per hour. \n",
    "\n",
    "**Task**:\n",
    "\n",
    "Review the data set, and draw any conclusions you can find from the data set. Try to identify the most popular scooter location, demonstrate your findings using data visualization tools, calculate operation time cost (Operation Time Cost: How long it takes to fully charge all the scooters), and come up with the most efficient scooter charging strategy. "
   ]
  },
  {
   "cell_type": "code",
   "execution_count": 1,
   "metadata": {},
   "outputs": [],
   "source": [
    "import pandas as pd\n",
    "from matplotlib import pyplot as plt\n",
    "import seaborn as sns\n",
    "import numpy as np\n",
    "\n",
    "%matplotlib inline\n",
    "sns.set()\n",
    "\n",
    "from pylab import rcParams\n",
    "rcParams['figure.figsize'] = 10, 8"
   ]
  },
  {
   "cell_type": "markdown",
   "metadata": {},
   "source": [
    "<a id=\"reading-data\"></a>\n",
    "### Reading in the data"
   ]
  },
  {
   "cell_type": "code",
   "execution_count": 2,
   "metadata": {},
   "outputs": [],
   "source": [
    "data = pd.read_csv(\"2019-XTern- Work Sample Assessment Data Science-DS.csv\")"
   ]
  },
  {
   "cell_type": "code",
   "execution_count": 3,
   "metadata": {},
   "outputs": [
    {
     "data": {
      "text/html": [
       "<div>\n",
       "<style scoped>\n",
       "    .dataframe tbody tr th:only-of-type {\n",
       "        vertical-align: middle;\n",
       "    }\n",
       "\n",
       "    .dataframe tbody tr th {\n",
       "        vertical-align: top;\n",
       "    }\n",
       "\n",
       "    .dataframe thead th {\n",
       "        text-align: right;\n",
       "    }\n",
       "</style>\n",
       "<table border=\"1\" class=\"dataframe\">\n",
       "  <thead>\n",
       "    <tr style=\"text-align: right;\">\n",
       "      <th></th>\n",
       "      <th>scooter_id</th>\n",
       "      <th>xcoordinate</th>\n",
       "      <th>ycoordinate</th>\n",
       "      <th>power_level</th>\n",
       "    </tr>\n",
       "  </thead>\n",
       "  <tbody>\n",
       "    <tr>\n",
       "      <td>0</td>\n",
       "      <td>0</td>\n",
       "      <td>0.906835</td>\n",
       "      <td>0.776484</td>\n",
       "      <td>0</td>\n",
       "    </tr>\n",
       "    <tr>\n",
       "      <td>1</td>\n",
       "      <td>1</td>\n",
       "      <td>0.928587</td>\n",
       "      <td>0.804964</td>\n",
       "      <td>2</td>\n",
       "    </tr>\n",
       "    <tr>\n",
       "      <td>2</td>\n",
       "      <td>2</td>\n",
       "      <td>0.904091</td>\n",
       "      <td>0.784043</td>\n",
       "      <td>1</td>\n",
       "    </tr>\n",
       "    <tr>\n",
       "      <td>3</td>\n",
       "      <td>3</td>\n",
       "      <td>0.906752</td>\n",
       "      <td>0.804461</td>\n",
       "      <td>0</td>\n",
       "    </tr>\n",
       "    <tr>\n",
       "      <td>4</td>\n",
       "      <td>4</td>\n",
       "      <td>0.900641</td>\n",
       "      <td>0.781683</td>\n",
       "      <td>4</td>\n",
       "    </tr>\n",
       "  </tbody>\n",
       "</table>\n",
       "</div>"
      ],
      "text/plain": [
       "   scooter_id  xcoordinate  ycoordinate  power_level\n",
       "0           0     0.906835     0.776484            0\n",
       "1           1     0.928587     0.804964            2\n",
       "2           2     0.904091     0.784043            1\n",
       "3           3     0.906752     0.804461            0\n",
       "4           4     0.900641     0.781683            4"
      ]
     },
     "execution_count": 3,
     "metadata": {},
     "output_type": "execute_result"
    }
   ],
   "source": [
    "data.head()"
   ]
  },
  {
   "cell_type": "markdown",
   "metadata": {},
   "source": [
    "<a id=\"basic-info\"></a>\n",
    "### Basic EDA"
   ]
  },
  {
   "cell_type": "code",
   "execution_count": 4,
   "metadata": {},
   "outputs": [
    {
     "name": "stdout",
     "output_type": "stream",
     "text": [
      "<class 'pandas.core.frame.DataFrame'>\n",
      "RangeIndex: 25668 entries, 0 to 25667\n",
      "Data columns (total 4 columns):\n",
      "scooter_id     25668 non-null int64\n",
      "xcoordinate    25668 non-null float64\n",
      "ycoordinate    25668 non-null float64\n",
      "power_level    25668 non-null int64\n",
      "dtypes: float64(2), int64(2)\n",
      "memory usage: 802.2 KB\n"
     ]
    }
   ],
   "source": [
    "data.info()"
   ]
  },
  {
   "cell_type": "code",
   "execution_count": 5,
   "metadata": {},
   "outputs": [
    {
     "data": {
      "text/plain": [
       "(25668, 4)"
      ]
     },
     "execution_count": 5,
     "metadata": {},
     "output_type": "execute_result"
    }
   ],
   "source": [
    "data.shape"
   ]
  },
  {
   "cell_type": "code",
   "execution_count": 6,
   "metadata": {},
   "outputs": [
    {
     "data": {
      "text/plain": [
       "25668"
      ]
     },
     "execution_count": 6,
     "metadata": {},
     "output_type": "execute_result"
    }
   ],
   "source": [
    "data.scooter_id.nunique()"
   ]
  },
  {
   "cell_type": "markdown",
   "metadata": {},
   "source": [
    "All the scooter id's are unique in nature. And we have one row in the dataset for each scooter."
   ]
  },
  {
   "cell_type": "markdown",
   "metadata": {},
   "source": [
    "### Distribution of the Power level of the scooter"
   ]
  },
  {
   "cell_type": "code",
   "execution_count": 7,
   "metadata": {},
   "outputs": [
    {
     "data": {
      "text/plain": [
       "Text(0.5, 1.0, 'Count of scooters by power levels')"
      ]
     },
     "execution_count": 7,
     "metadata": {},
     "output_type": "execute_result"
    },
    {
     "data": {
      "image/png": "[encoded data removed]",
      "text/plain": [
       "<Figure size 432x288 with 1 Axes>"
      ]
     },
     "metadata": {
      "needs_background": "light"
     },
     "output_type": "display_data"
    }
   ],
   "source": [
    "sns.countplot(data=data, x=\"power_level\")\n",
    "plt.title(\"Count of scooters by power levels\")"
   ]
  },
  {
   "cell_type": "markdown",
   "metadata": {},
   "source": [
    "The dataset has a even distribution in terms of power level. It is not biased towards any particular power level."
   ]
  },
  {
   "cell_type": "markdown",
   "metadata": {},
   "source": [
    "### Location of the scooters"
   ]
  },
  {
   "cell_type": "code",
   "execution_count": 8,
   "metadata": {},
   "outputs": [
    {
     "data": {
      "text/plain": [
       "Text(0, 0.5, 'Y-Coordinate')"
      ]
     },
     "execution_count": 8,
     "metadata": {},
     "output_type": "execute_result"
    },
    {
     "data": {
      "image/png": "[encoded data removed]",
      "text/plain": [
       "<Figure size 432x288 with 1 Axes>"
      ]
     },
     "metadata": {
      "needs_background": "light"
     },
     "output_type": "display_data"
    }
   ],
   "source": [
    "plt.scatter(x=\"xcoordinate\", y=\"ycoordinate\", data=data)\n",
    "plt.title(\"Location of scooters\")\n",
    "plt.xlabel(\"X-Coordinate\")\n",
    "plt.ylabel(\"Y-Coordinate\")"
   ]
  },
  {
   "cell_type": "markdown",
   "metadata": {},
   "source": [
    "We can visually see that the location of the scooters form 3 clusters."
   ]
  },
  {
   "cell_type": "markdown",
   "metadata": {},
   "source": [
    "<a id=\"clustering-on-locations\"></a>\n",
    "### Clustering on locations"
   ]
  },
  {
   "cell_type": "markdown",
   "metadata": {},
   "source": [
    "Although there are 19 small clusters, instead of treating them as individual clusters, K-Means has been used to identify cluster centers."
   ]
  },
  {
   "cell_type": "code",
   "execution_count": 9,
   "metadata": {},
   "outputs": [],
   "source": [
    "from sklearn.cluster import KMeans\n",
    "locations = data[[\"xcoordinate\",\"ycoordinate\"]].to_numpy()"
   ]
  },
  {
   "cell_type": "code",
   "execution_count": 10,
   "metadata": {},
   "outputs": [
    {
     "data": {
      "text/plain": [
       "Text(0, 0.5, 'Error Loss')"
      ]
     },
     "execution_count": 10,
     "metadata": {},
     "output_type": "execute_result"
    },
    {
     "data": {
      "image/png": "[encoded data removed]",
      "text/plain": [
       "<Figure size 432x288 with 1 Axes>"
      ]
     },
     "metadata": {
      "needs_background": "light"
     },
     "output_type": "display_data"
    }
   ],
   "source": [
    "error_loss =[] \n",
    "for i in range(1, 20): \n",
    "    kmeans = KMeans(n_clusters = i, max_iter = 500) \n",
    "    kmeans.fit(locations) \n",
    "    error_loss.append(kmeans.inertia_) \n",
    "    \n",
    "plt.plot(range(1, 20), error_loss) \n",
    "plt.xticks(np.arange(1,20, step=1))\n",
    "plt.title(\"K vs Error Loss\")\n",
    "plt.xlabel(\"K\") \n",
    "plt.ylabel(\"Error Loss\") "
   ]
  },
  {
   "cell_type": "markdown",
   "metadata": {},
   "source": [
    "After 4, the error kind of smoothens out. So we can take the number of clusters to be 4."
   ]
  },
  {
   "cell_type": "code",
   "execution_count": 11,
   "metadata": {},
   "outputs": [],
   "source": [
    "n_clusters = 4\n",
    "kmeans = KMeans(n_clusters = n_clusters, max_iter = 500) \n",
    "kmeans.fit(locations)\n",
    "data['cluster_number'] = kmeans.labels_"
   ]
  },
  {
   "cell_type": "code",
   "execution_count": 12,
   "metadata": {},
   "outputs": [
    {
     "data": {
      "text/plain": [
       "Text(0, 0.5, 'Y-Coordinate')"
      ]
     },
     "execution_count": 12,
     "metadata": {},
     "output_type": "execute_result"
    },
    {
     "data": {
      "image/png": "[encoded data removed]",
      "text/plain": [
       "<Figure size 432x288 with 1 Axes>"
      ]
     },
     "metadata": {
      "needs_background": "light"
     },
     "output_type": "display_data"
    }
   ],
   "source": [
    "for label in range(0, n_clusters):\n",
    "\n",
    "    #data points\n",
    "    plt.scatter(x=data.loc[data['cluster_number']==label, 'xcoordinate'], \n",
    "                y=data.loc[data['cluster_number']==label,'ycoordinate'])\n",
    "    \n",
    "    #labels\n",
    "    plt.annotate(label, \n",
    "                 data.loc[data['cluster_number']==label,['xcoordinate','ycoordinate']].mean(),\n",
    "                 horizontalalignment='center',\n",
    "                 verticalalignment='center',\n",
    "                 size=20, weight='bold',\n",
    "                 color='black') \n",
    "plt.title(\"Locations of scooters\")\n",
    "plt.xlabel(\"X-Coordinate\")\n",
    "plt.ylabel(\"Y-Coordinate\")"
   ]
  },
  {
   "cell_type": "markdown",
   "metadata": {},
   "source": [
    "<a id=\"analysis-on-charging-time\"></a>\n",
    "### Analysis on charging time"
   ]
  },
  {
   "cell_type": "markdown",
   "metadata": {},
   "source": [
    "#### Charging time - all scooters"
   ]
  },
  {
   "cell_type": "code",
   "execution_count": 13,
   "metadata": {},
   "outputs": [
    {
     "data": {
      "text/html": [
       "<div>\n",
       "<style scoped>\n",
       "    .dataframe tbody tr th:only-of-type {\n",
       "        vertical-align: middle;\n",
       "    }\n",
       "\n",
       "    .dataframe tbody tr th {\n",
       "        vertical-align: top;\n",
       "    }\n",
       "\n",
       "    .dataframe thead th {\n",
       "        text-align: right;\n",
       "    }\n",
       "</style>\n",
       "<table border=\"1\" class=\"dataframe\">\n",
       "  <thead>\n",
       "    <tr style=\"text-align: right;\">\n",
       "      <th></th>\n",
       "      <th>hours_of_charging_required</th>\n",
       "    </tr>\n",
       "    <tr>\n",
       "      <th>cluster_number</th>\n",
       "      <th></th>\n",
       "    </tr>\n",
       "  </thead>\n",
       "  <tbody>\n",
       "    <tr>\n",
       "      <td>0</td>\n",
       "      <td>19631</td>\n",
       "    </tr>\n",
       "    <tr>\n",
       "      <td>1</td>\n",
       "      <td>17711</td>\n",
       "    </tr>\n",
       "    <tr>\n",
       "      <td>2</td>\n",
       "      <td>14699</td>\n",
       "    </tr>\n",
       "    <tr>\n",
       "      <td>3</td>\n",
       "      <td>12230</td>\n",
       "    </tr>\n",
       "  </tbody>\n",
       "</table>\n",
       "</div>"
      ],
      "text/plain": [
       "                hours_of_charging_required\n",
       "cluster_number                            \n",
       "0                                    19631\n",
       "1                                    17711\n",
       "2                                    14699\n",
       "3                                    12230"
      ]
     },
     "execution_count": 13,
     "metadata": {},
     "output_type": "execute_result"
    }
   ],
   "source": [
    "data[\"hours_of_charging_required\"] = 5 - data[\"power_level\"]\n",
    "data[[\"hours_of_charging_required\", \"cluster_number\"]].groupby(\"cluster_number\").sum()"
   ]
  },
  {
   "cell_type": "markdown",
   "metadata": {},
   "source": [
    "So, just for **cluster 0**, it would take **19631 hours** to charge all the scooters to their full capacity. This is with the assumption that scooters are charged one after the other. However, since TechPointX talent team has a mega charging bus, they can do this in batches. Even if the bus **can accomodate 1000 scooters at a time**, even then it is going to take **~ 20 hours** to fully charge the scooters. That is a lot of time, and hence we would need to make some assumptions and tradeoffs."
   ]
  },
  {
   "cell_type": "code",
   "execution_count": 14,
   "metadata": {},
   "outputs": [
    {
     "data": {
      "text/plain": [
       "64.271"
      ]
     },
     "execution_count": 14,
     "metadata": {},
     "output_type": "execute_result"
    }
   ],
   "source": [
    "data[\"hours_of_charging_required\"].sum()/1000"
   ]
  },
  {
   "cell_type": "markdown",
   "metadata": {},
   "source": [
    "And the total number of hours required to charge all the scooters back to their full potential is ~ 64 hours."
   ]
  },
  {
   "cell_type": "markdown",
   "metadata": {},
   "source": [
    "#### Which bikes to charge?"
   ]
  },
  {
   "cell_type": "code",
   "execution_count": 15,
   "metadata": {},
   "outputs": [
    {
     "name": "stdout",
     "output_type": "stream",
     "text": [
      "Time required to charge all scooters having power level <= 1 : 38.932 hours\n",
      "Time required to charge all scooters having power level <= 2 : 51.667 hours\n",
      "Time required to charge all scooters having power level <= 3 : 59.987 hours\n",
      "Time required to charge all scooters having power level <= 4 : 64.271 hours\n"
     ]
    },
    {
     "data": {
      "text/plain": [
       "<matplotlib.legend.Legend at 0x19700370>"
      ]
     },
     "execution_count": 15,
     "metadata": {},
     "output_type": "execute_result"
    },
    {
     "data": {
      "image/png": "[encoded data removed]",
      "text/plain": [
       "<Figure size 432x288 with 1 Axes>"
      ]
     },
     "metadata": {
      "needs_background": "light"
     },
     "output_type": "display_data"
    }
   ],
   "source": [
    "for power_level in range(1,5):\n",
    "    charging_hours_per_cluster = data[data.power_level <= power_level][[\"hours_of_charging_required\", \"cluster_number\"]].groupby(\"cluster_number\").sum()/1000\n",
    "    print(\"Time required to charge all scooters having power level <= {} : {} hours\".format(power_level,charging_hours_per_cluster[\"hours_of_charging_required\"].sum()))\n",
    "    plt.plot(charging_hours_per_cluster, label=\"Power level <= {}\".format(power_level))\n",
    "plt.xlabel(\"Clusters\")\n",
    "plt.xticks(np.arange(0,n_clusters,1))\n",
    "plt.ylabel(\"Average charging hours\")\n",
    "plt.title(\"Average charging times per cluster - assuming batch of 1000\")\n",
    "plt.legend()"
   ]
  },
  {
   "cell_type": "markdown",
   "metadata": {},
   "source": [
    "- The following conclusions can be drawn from the analysis:\n",
    "    - Time required to charge all scooters having power level <= 1 ~ 39 hours\n",
    "    - Time required to charge all scooters having power level <= 2 ~ 52 hours\n",
    "    - Time required to charge all scooters having power level <= 3 ~ 60 hours\n",
    "    - Time required to charge all scooters having power level <= 4 ~ 64 hours"
   ]
  },
  {
   "cell_type": "markdown",
   "metadata": {},
   "source": [
    "#### Charging time - Assumptions and Tradeoffs\n",
    "\n",
    "**Assumptions**\n",
    "- A given scooter has 5 power levels, and it takes 5 hours to charge a scooter completely. So, it can be assumed that the relationship between power level and charging time is linear. In other words, after charging for one hour, the power level of a scooter increases by 1.\n",
    "- The rate of expenditure of power of a scooter is slower than the charging rate. So, a power level of 1 means that the scooter would not run out of battery before 1 hour.\n",
    "\n",
    "**Trade Offs**\n",
    "- *Do we need to charge all the scooters?* \n",
    "    - If a scooter has zero charge, then it is obviously unusuable. However, if the scooter has charge 1 or charge 2, it is usable but a consumer may think twice before using it. The probability that the scooter runs out of battery while in use is high.\n",
    "    - On the other hand, if a scooter has charge 3,4 or 5, a consumer would easily take the scooter since the probability that it would run out of battery while in use is low.\n",
    "    - By compromising charging all the scooters, the bus can focus on making lives easier for the consumers by making sure most of the scooters are in a usable condition.\n",
    "\n",
    "**Assumption: The bus will only charge the scooters that are presently at charge levels 0,1 and 2.**\n",
    "\n",
    "- Do we need to charge these scooters to their full extent?\n",
    "    - Charging one scooter to its full capacity takes 5 hours. Maybe the bus can charge scooters halfway through instead of charging them all the way. This would enable it to service more consumers.\n",
    "    - By compromising on charging the scooters all the way up, the bus can focus on maximising the number of scooters that the consumers can use.\n",
    "    \n",
    "**Assumption: The bus will charge the scooters halfway through.**"
   ]
  },
  {
   "cell_type": "markdown",
   "metadata": {},
   "source": [
    "#### Are there clusters that we can skip?"
   ]
  },
  {
   "cell_type": "code",
   "execution_count": 16,
   "metadata": {},
   "outputs": [],
   "source": [
    "scooters_needing_charging = data[data.power_level <= 2]"
   ]
  },
  {
   "cell_type": "code",
   "execution_count": 17,
   "metadata": {},
   "outputs": [
    {
     "data": {
      "text/plain": [
       "Text(0, 0.5, 'Y-Coordinate')"
      ]
     },
     "execution_count": 17,
     "metadata": {},
     "output_type": "execute_result"
    },
    {
     "data": {
      "image/png": "[encoded data removed]",
      "text/plain": [
       "<Figure size 432x288 with 1 Axes>"
      ]
     },
     "metadata": {
      "needs_background": "light"
     },
     "output_type": "display_data"
    }
   ],
   "source": [
    "plt.scatter(x=\"xcoordinate\", y=\"ycoordinate\", data = scooters_needing_charging)\n",
    "plt.title(\"Location of scooters with current charge levels 0, 1 and 2\")\n",
    "plt.xlabel(\"X-Coordinate\")\n",
    "plt.ylabel(\"Y-Coordinate\")"
   ]
  },
  {
   "cell_type": "markdown",
   "metadata": {},
   "source": [
    "All of the clusters have scooters that require charging, so we won't need to visit every cluster."
   ]
  },
  {
   "cell_type": "markdown",
   "metadata": {},
   "source": [
    "#### Charging times - with the tradeoffs"
   ]
  },
  {
   "cell_type": "code",
   "execution_count": 18,
   "metadata": {},
   "outputs": [],
   "source": [
    "data_power_level_less_than_three = data[data.power_level <= 2][[\"scooter_id\", \"xcoordinate\", \"ycoordinate\", \"power_level\", \"cluster_number\"]]\n",
    "data_power_level_less_than_three[\"hours_of_charging_required_to_reach_level_3\"] = 3-data_power_level_less_than_three[\"power_level\"]"
   ]
  },
  {
   "cell_type": "code",
   "execution_count": 19,
   "metadata": {},
   "outputs": [
    {
     "data": {
      "text/html": [
       "<div>\n",
       "<style scoped>\n",
       "    .dataframe tbody tr th:only-of-type {\n",
       "        vertical-align: middle;\n",
       "    }\n",
       "\n",
       "    .dataframe tbody tr th {\n",
       "        vertical-align: top;\n",
       "    }\n",
       "\n",
       "    .dataframe thead th {\n",
       "        text-align: right;\n",
       "    }\n",
       "</style>\n",
       "<table border=\"1\" class=\"dataframe\">\n",
       "  <thead>\n",
       "    <tr style=\"text-align: right;\">\n",
       "      <th></th>\n",
       "      <th>scooter_id</th>\n",
       "      <th>xcoordinate</th>\n",
       "      <th>ycoordinate</th>\n",
       "      <th>power_level</th>\n",
       "      <th>cluster_number</th>\n",
       "      <th>hours_of_charging_required_to_reach_level_3</th>\n",
       "    </tr>\n",
       "  </thead>\n",
       "  <tbody>\n",
       "    <tr>\n",
       "      <td>0</td>\n",
       "      <td>0</td>\n",
       "      <td>0.906835</td>\n",
       "      <td>0.776484</td>\n",
       "      <td>0</td>\n",
       "      <td>1</td>\n",
       "      <td>3</td>\n",
       "    </tr>\n",
       "    <tr>\n",
       "      <td>1</td>\n",
       "      <td>1</td>\n",
       "      <td>0.928587</td>\n",
       "      <td>0.804964</td>\n",
       "      <td>2</td>\n",
       "      <td>1</td>\n",
       "      <td>1</td>\n",
       "    </tr>\n",
       "    <tr>\n",
       "      <td>2</td>\n",
       "      <td>2</td>\n",
       "      <td>0.904091</td>\n",
       "      <td>0.784043</td>\n",
       "      <td>1</td>\n",
       "      <td>1</td>\n",
       "      <td>2</td>\n",
       "    </tr>\n",
       "    <tr>\n",
       "      <td>3</td>\n",
       "      <td>3</td>\n",
       "      <td>0.906752</td>\n",
       "      <td>0.804461</td>\n",
       "      <td>0</td>\n",
       "      <td>1</td>\n",
       "      <td>3</td>\n",
       "    </tr>\n",
       "    <tr>\n",
       "      <td>5</td>\n",
       "      <td>5</td>\n",
       "      <td>0.899680</td>\n",
       "      <td>0.790893</td>\n",
       "      <td>2</td>\n",
       "      <td>1</td>\n",
       "      <td>1</td>\n",
       "    </tr>\n",
       "  </tbody>\n",
       "</table>\n",
       "</div>"
      ],
      "text/plain": [
       "   scooter_id  xcoordinate  ycoordinate  power_level  cluster_number  \\\n",
       "0           0     0.906835     0.776484            0               1   \n",
       "1           1     0.928587     0.804964            2               1   \n",
       "2           2     0.904091     0.784043            1               1   \n",
       "3           3     0.906752     0.804461            0               1   \n",
       "5           5     0.899680     0.790893            2               1   \n",
       "\n",
       "   hours_of_charging_required_to_reach_level_3  \n",
       "0                                            3  \n",
       "1                                            1  \n",
       "2                                            2  \n",
       "3                                            3  \n",
       "5                                            1  "
      ]
     },
     "execution_count": 19,
     "metadata": {},
     "output_type": "execute_result"
    }
   ],
   "source": [
    "data_power_level_less_than_three.head()"
   ]
  },
  {
   "cell_type": "code",
   "execution_count": 20,
   "metadata": {},
   "outputs": [
    {
     "name": "stdout",
     "output_type": "stream",
     "text": [
      "Cluster: 0, Total charging hours in cluster: 7875\n",
      "Cluster: 1, Total charging hours in cluster: 7187\n",
      "Cluster: 2, Total charging hours in cluster: 5924\n",
      "Cluster: 3, Total charging hours in cluster: 4919\n",
      "Overall charging time: 25905\n"
     ]
    }
   ],
   "source": [
    "overall_charging_time = 0\n",
    "for cluster in range(0,n_clusters):\n",
    "    power_level_less_than_three_by_cluster = data_power_level_less_than_three[data_power_level_less_than_three.cluster_number == cluster]\n",
    "    agg_power_level_data = power_level_less_than_three_by_cluster[[\"hours_of_charging_required_to_reach_level_3\", \"scooter_id\"]].groupby([\"hours_of_charging_required_to_reach_level_3\"]).count()\n",
    "    agg_power_level_data.reset_index(inplace=True)\n",
    "    total_charging_hours_in_cluster = agg_power_level_data.apply(lambda y: y['hours_of_charging_required_to_reach_level_3'] * y['scooter_id'], axis=1).sum()\n",
    "    overall_charging_time += total_charging_hours_in_cluster\n",
    "    print(\"Cluster: {}, Total charging hours in cluster: {}\".format(cluster, total_charging_hours_in_cluster))\n",
    "print(\"Overall charging time: {}\".format(overall_charging_time))"
   ]
  },
  {
   "cell_type": "markdown",
   "metadata": {},
   "source": [
    "So, with the tradeoffs, it would require around ~25 hours to charge the scooters, which is half of the previous estimate."
   ]
  },
  {
   "cell_type": "markdown",
   "metadata": {},
   "source": [
    "<a id=\"most-popular-location\"></a>\n",
    "### Most popular location"
   ]
  },
  {
   "cell_type": "markdown",
   "metadata": {},
   "source": [
    "The definition of most popular location is quite ambiguous. Here are some of the possible definitions:\n",
    "    \n",
    "A location can be thought of to be the most popular if:\n",
    "- it has the most number of scooters available.\n",
    "- it has the most number of discharged scooters available.\n",
    "- it has the least number of fully charged scooters.\n",
    "    - The presence of charged scooters can be a sign of inactivity.\n",
    "- the ratio of fully charges to charged scooters is highest.\n",
    "- the ratio of number of scooters to number of people living in the area is the highest.\n",
    "\n",
    "We will explore some of these definitions."
   ]
  },
  {
   "cell_type": "markdown",
   "metadata": {},
   "source": [
    "#### Number of scooters available"
   ]
  },
  {
   "cell_type": "code",
   "execution_count": 21,
   "metadata": {},
   "outputs": [
    {
     "data": {
      "text/plain": [
       "Text(0.5, 1.0, 'Number of scooters in each cluster')"
      ]
     },
     "execution_count": 21,
     "metadata": {},
     "output_type": "execute_result"
    },
    {
     "data": {
      "image/png": "[encoded data removed]",
      "text/plain": [
       "<Figure size 432x288 with 1 Axes>"
      ]
     },
     "metadata": {
      "needs_background": "light"
     },
     "output_type": "display_data"
    }
   ],
   "source": [
    "sns.countplot(x=\"cluster_number\", data=data)\n",
    "plt.title(\"Number of scooters in each cluster\")"
   ]
  },
  {
   "cell_type": "markdown",
   "metadata": {},
   "source": [
    "According to this definition, cluster 0 seems to be the most popular, while cluster 3 seems to be the least popular."
   ]
  },
  {
   "cell_type": "markdown",
   "metadata": {},
   "source": [
    "#### Number of discharged scooters"
   ]
  },
  {
   "cell_type": "code",
   "execution_count": 22,
   "metadata": {},
   "outputs": [
    {
     "data": {
      "text/plain": [
       "<matplotlib.axes._subplots.AxesSubplot at 0x1989ddb0>"
      ]
     },
     "execution_count": 22,
     "metadata": {},
     "output_type": "execute_result"
    },
    {
     "data": {
      "image/png": "[encoded data removed]",
      "text/plain": [
       "<Figure size 432x288 with 1 Axes>"
      ]
     },
     "metadata": {
      "needs_background": "light"
     },
     "output_type": "display_data"
    }
   ],
   "source": [
    "sns.countplot(x=\"cluster_number\", data=data[(data.power_level == 0)])"
   ]
  },
  {
   "cell_type": "markdown",
   "metadata": {},
   "source": [
    "According to this definition too, cluster 0 seems to be the most popular. However, from this graph and the previous one, it is evident that the ratio of discharged scooters to total scooters is greater in cluster 1 than cluster 0. We can verify the same by explicitly computing the ratio and plotting the same."
   ]
  },
  {
   "cell_type": "markdown",
   "metadata": {},
   "source": [
    "#### Ratio of charged to discharged scooters"
   ]
  },
  {
   "cell_type": "code",
   "execution_count": 23,
   "metadata": {},
   "outputs": [
    {
     "data": {
      "text/plain": [
       "Text(0.5, 1.0, 'Ratio of discharged scooters to total scooters present per cluster')"
      ]
     },
     "execution_count": 23,
     "metadata": {},
     "output_type": "execute_result"
    },
    {
     "data": {
      "image/png": "[encoded data removed]",
      "text/plain": [
       "<Figure size 432x288 with 1 Axes>"
      ]
     },
     "metadata": {
      "needs_background": "light"
     },
     "output_type": "display_data"
    }
   ],
   "source": [
    "scooters_per_cluster = data[[\"scooter_id\",\"cluster_number\"]].groupby(\"cluster_number\").count()\n",
    "scooters_per_cluster.reset_index(inplace=True)\n",
    "scooters_per_cluster.rename(columns= {\"scooter_id\": \"count_of_scooters\"}, inplace=True)\n",
    "\n",
    "discharged_scooters_per_cluster = data[data.power_level == 0][[\"scooter_id\",\"cluster_number\"]].groupby(\"cluster_number\").count()\n",
    "discharged_scooters_per_cluster.reset_index(inplace=True)\n",
    "discharged_scooters_per_cluster.rename(columns= {\"scooter_id\": \"count_of_discharged_scooters\"}, inplace=True)\n",
    "\n",
    "total_and_discharged_scooters = scooters_per_cluster.join(discharged_scooters_per_cluster.set_index(\"cluster_number\"), on=\"cluster_number\")\n",
    "total_and_discharged_scooters['activity_indicator'] = total_and_discharged_scooters.apply(lambda x: x['count_of_discharged_scooters']/x['count_of_scooters'], axis=1)\n",
    "\n",
    "plt.plot(total_and_discharged_scooters['activity_indicator'])\n",
    "plt.xticks(np.arange(0, n_clusters,1))\n",
    "plt.xlabel(\"Cluster number\")\n",
    "plt.ylabel(\"Ratio of discharged scooters to total scooters present\")\n",
    "plt.title(\"Ratio of discharged scooters to total scooters present per cluster\")"
   ]
  },
  {
   "cell_type": "markdown",
   "metadata": {},
   "source": [
    "So, by this definition of popularity, cluster 1 is the most popular location."
   ]
  },
  {
   "cell_type": "markdown",
   "metadata": {},
   "source": [
    "#### Number of fully charged scooters"
   ]
  },
  {
   "cell_type": "code",
   "execution_count": 24,
   "metadata": {},
   "outputs": [
    {
     "data": {
      "text/plain": [
       "<matplotlib.axes._subplots.AxesSubplot at 0x1a8e77d0>"
      ]
     },
     "execution_count": 24,
     "metadata": {},
     "output_type": "execute_result"
    },
    {
     "data": {
      "image/png": "[encoded data removed]",
      "text/plain": [
       "<Figure size 432x288 with 1 Axes>"
      ]
     },
     "metadata": {
      "needs_background": "light"
     },
     "output_type": "display_data"
    }
   ],
   "source": [
    "sns.countplot(x=\"cluster_number\", data=data[(data.power_level == 5)])"
   ]
  },
  {
   "cell_type": "markdown",
   "metadata": {},
   "source": [
    "#### Ratio of fully charged scooters to total number of scooters"
   ]
  },
  {
   "cell_type": "code",
   "execution_count": 25,
   "metadata": {},
   "outputs": [
    {
     "data": {
      "text/plain": [
       "Text(0.5, 1.0, 'Ratio of charged scooters to total scooters present per cluster')"
      ]
     },
     "execution_count": 25,
     "metadata": {},
     "output_type": "execute_result"
    },
    {
     "data": {
      "image/png": "[encoded data removed]",
      "text/plain": [
       "<Figure size 432x288 with 1 Axes>"
      ]
     },
     "metadata": {
      "needs_background": "light"
     },
     "output_type": "display_data"
    }
   ],
   "source": [
    "charged_scooters_per_cluster = data[data.power_level == 5][[\"scooter_id\",\"cluster_number\"]].groupby(\"cluster_number\").count()\n",
    "charged_scooters_per_cluster.reset_index(inplace=True)\n",
    "charged_scooters_per_cluster.rename(columns= {\"scooter_id\": \"count_of_charged_scooters\"}, inplace=True)\n",
    "\n",
    "total_and_charged_scooters = scooters_per_cluster.join(charged_scooters_per_cluster.set_index(\"cluster_number\"), on=\"cluster_number\")\n",
    "total_and_charged_scooters['activity_indicator'] = total_and_charged_scooters.apply(lambda x: x['count_of_charged_scooters']/x['count_of_scooters'], axis=1)\n",
    "\n",
    "plt.plot(total_and_charged_scooters['activity_indicator'])\n",
    "plt.xticks(np.arange(0, n_clusters,1))\n",
    "plt.xlabel(\"Cluster number\")\n",
    "plt.ylabel(\"Ratio of charged scooters to total scooters present\")\n",
    "plt.title(\"Ratio of charged scooters to total scooters present per cluster\")"
   ]
  },
  {
   "cell_type": "markdown",
   "metadata": {},
   "source": [
    "According to this definition, cluster 2 has the least amount of charged scooters, followed by 3, 2 and 1."
   ]
  },
  {
   "cell_type": "markdown",
   "metadata": {},
   "source": [
    "#### Conclusions:\n",
    "According to various definitions of popularity, we have the following results:\n",
    "- number of total scooters: Cluster 0\n",
    "- ratio of discharged to total scooters: Cluster 1\n",
    "- ratio of charged scooters to total scooters: Cluster 2\n",
    "\n",
    "Without knowing the population density around the area, it is difficult to estimate which definition of popularity fits our case. Without knowing the population density, it is safe to assume the ratio of charged scooters to total scooters as a definition of popularity. The less the number of charged scooters in a location, the more scooters have been used from that location. So, cluster 2 is the most popular location."
   ]
  },
  {
   "cell_type": "markdown",
   "metadata": {},
   "source": [
    "<a id=\"operation-cost\"></a>\n",
    "### Operation cost"
   ]
  },
  {
   "cell_type": "markdown",
   "metadata": {},
   "source": [
    "The bus starts from `(20.19, 20.19)` and moves at a speed of 50mph. It is assumed that ten unit distance on the graph is equivalent to one mile distance. Since Cluster 2 is the most popular location, it makes sense to try and charge the scooters at cluster 2 to start off. Then the bus would move to cluster 0, followed by cluster 1, cluster 3 before making its way back to its stop."
   ]
  },
  {
   "cell_type": "code",
   "execution_count": 26,
   "metadata": {},
   "outputs": [],
   "source": [
    "def euclidean_distance(x1, y1, x2, y2):\n",
    "    return ((x1-x2)**2 + (y1-y2)**2)"
   ]
  },
  {
   "cell_type": "code",
   "execution_count": 27,
   "metadata": {},
   "outputs": [],
   "source": [
    "distance_from_bus_stop_to_cluster_2 = euclidean_distance(20.19, 20.19, -0.15658026, 0.01204397)/10\n",
    "time_taken_to_reach_cluster_2 = distance_from_bus_stop_to_cluster_2/50\n",
    "\n",
    "distance_from_cluster_2_to_cluster_0 = euclidean_distance(-0.15658026, 0.01204397, 0.2856132, -0.02145622)/10\n",
    "time_taken_to_reach_cluster_0 = distance_from_cluster_2_to_cluster_0/50\n",
    "\n",
    "distance_from_cluster_0_to_cluster_1 = euclidean_distance(0.2856132, -0.02145622, 0.98812503,0.77379981)/10\n",
    "time_taken_to_reach_cluster_1 = distance_from_cluster_0_to_cluster_1/50\n",
    "\n",
    "distance_from_cluster_1_to_cluster_3 = euclidean_distance(0.98812503,0.77379981, 0.88000396, 1.20009559)/10\n",
    "time_taken_to_reach_cluster_3 = distance_from_cluster_1_to_cluster_3/50\n",
    "\n",
    "distance_from_cluster_3_to_bus_stop = euclidean_distance(0.88000396, 1.20009559, 20.19, 20.19)/10\n",
    "time_taken_to_reach_bus_stop = distance_from_cluster_3_to_bus_stop/50"
   ]
  },
  {
   "cell_type": "code",
   "execution_count": 28,
   "metadata": {},
   "outputs": [
    {
     "data": {
      "text/plain": [
       "3.1122833699843"
      ]
     },
     "execution_count": 28,
     "metadata": {},
     "output_type": "execute_result"
    }
   ],
   "source": [
    "time_taken_to_reach_cluster_2 + time_taken_to_reach_cluster_0 + time_taken_to_reach_cluster_1 + time_taken_to_reach_cluster_3 + time_taken_to_reach_bus_stop"
   ]
  },
  {
   "cell_type": "markdown",
   "metadata": {},
   "source": [
    "Time spent in transit if the bus follows this order is around 3 hours, with the assumption that the bus moves with an average speed of 50mph."
   ]
  },
  {
   "cell_type": "markdown",
   "metadata": {},
   "source": [
    "From our previous estimate, the total time taken to charge is around 25 hours. So, the total time required would be around 28 hours."
   ]
  },
  {
   "cell_type": "markdown",
   "metadata": {},
   "source": [
    "<a id=\"final-conclusions\"></a>\n",
    "### Final conclusions:\n",
    "\n",
    "#### Assumptions:\n",
    "- Ten units distance on the map is equivalent to one mile.\n",
    "- The bus travels at an average speed of 50mph.\n",
    "- The rate of charging of a scooter is linear. With one hour of charge, the power level of a given scooter increases by one, if it is not already completely charged.\n",
    "- The rate of discharging of a scooter is slower than charging. A power level of 2 means that the scooter won't discharge atleast before 2 hours of usage.\n",
    "- A location is defined to be popular if the ratio of fully charged scooters to total number of available scooters is low. \n",
    "- A bus can hold 1000 scooters at once.\n",
    "- The time taken to move from the center of the cluster to individual scooters is negligible compared to the other distances.\n",
    "- The time taken to load and unload scooters has been ignored.\n",
    "- It is possible that the bus picks up scooters from one cluster, and charges them while on the way to the second cluster, drops them there and picks up the discharged bikes from the second cluster and moves to the third cluster and so on. But since the transit time is minor as compared to the charging time, this possibility has been ignored.\n",
    "\n",
    "#### Conclusions:\n",
    "- The bus doesn't need to charge all the scooters. It can charge the scooters that have a power level below 2.\n",
    "- It also doesn't need to charge the scooters all the way through. It can charge them halfway and try to service maximum consumers.\n",
    "- Cluster 2 is the most popular with the definition of popularity assumed.\n",
    "- The charging strategy to reduce operation cost and to maximise consumer gain would be to charge cluster 2 first, followed by cluster 0, then 1 and finally 3.\n",
    "- The amount of time spent in total would be around 28 hours."
   ]
  }
 ],
 "metadata": {
  "kernelspec": {
   "display_name": "Python 3",
   "language": "python",
   "name": "python3"
  },
  "language_info": {
   "codemirror_mode": {
    "name": "ipython",
    "version": 3
   },
   "file_extension": ".py",
   "mimetype": "text/x-python",
   "name": "python",
   "nbconvert_exporter": "python",
   "pygments_lexer": "ipython3",
   "version": "3.7.4"
  }
 },
 "nbformat": 4,
 "nbformat_minor": 4
}
